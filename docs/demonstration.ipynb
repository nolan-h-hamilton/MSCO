{
 "cells": [
  {
   "cell_type": "code",
   "execution_count": null,
   "metadata": {},
   "outputs": [],
   "source": [
    "import pandas as pd\n",
    "import numpy as np\n",
    "from sklearn.datasets import make_classification\n",
    "from sklearn.ensemble import RandomForestClassifier\n",
    "from operator import itemgetter\n",
    "import MSCO\n",
    "import random"
   ]
  },
  {
   "cell_type": "code",
   "execution_count": null,
   "metadata": {},
   "outputs": [],
   "source": [
    "# create arbitrary dataset for classification\n",
    "# see link below for description of parameters\n",
    "# https://scikit-learn.org/stable/modules/generated/sklearn.datasets.make_classification.html\n",
    "\n",
    "#X, y = make_classification(n_samples=300, n_features=15,\n",
    "                           #n_informative=8, random_state=0,\n",
    "                           #shuffle=True)\n",
    "#print(X)\n",
    "#np.savetxt('dataset_X.txt',X)\n",
    "#np.savetxt('dataset_y.txt',y)\n",
    "\n",
    "X = np.loadtxt('dataset_X.txt')\n",
    "y = np.loadtxt('dataset_y.txt')"
   ]
  },
  {
   "cell_type": "code",
   "execution_count": null,
   "metadata": {},
   "outputs": [],
   "source": [
    "# to roughly replicate a common scenario in which the most insightful\n",
    "# features are the most expensive to generate, we artificially create\n",
    "# a linear relationship between feature benefit and cost. Feature cost\n",
    "# is accordingly defined as rand(100,200)*importance for each feature. In practice,\n",
    "# consider computing average generation times for each of your features to\n",
    "# supply as costs\n",
    "# https://scikit-learn.org/stable/modules/generated/sklearn.ensemble.RandomForestClassifier.html\n",
    "\n",
    "clf = RandomForestClassifier(n_estimators=100)\n",
    "clf.fit(X,y)\n",
    "benefits = clf.feature_importances_\n",
    "#costs = [random.randrange(100,200)*b for b in benefits]\n",
    "costs = [19.764084307310753, 6.7254109270248605, 3.7797435714026864, 3.724685620315442, 3.1303084987410643,\n",
    "         2.550500690125089, 18.461302864749804, 4.77635968376175, 10.574614992863532, 5.491503520160602,\n",
    "         40.7509988879539, 11.186903480202794, 5.26676291399816, 21.501672451850364, 2.563533977411992]\n"
   ]
  },
  {
   "cell_type": "code",
   "execution_count": null,
   "metadata": {},
   "outputs": [],
   "source": [
    "# MSCO uses pandas dataframes for storing/manipulating train/test data\n",
    "# https://pandas.pydata.org/pandas-docs/stable/reference/api/pandas.DataFrame.html\n",
    "\n",
    "X = pd.DataFrame.from_records(X)"
   ]
  },
  {
   "cell_type": "code",
   "execution_count": null,
   "metadata": {},
   "outputs": [],
   "source": [
    "# we use a single-stage model as a frame of reference for performance\n",
    "# we average performance over 5 iterations \n",
    "\n",
    "sstage_partition = [0, 0, 0, 0, 0, 0, 0, 0, 0, 0, 0, 0, 0, 0, 0]\n",
    "sstage_partition = [0, 0, 1, 0, 0, 1, 0, 0, 1, 0, 1, 1, 2, 1, 2]\n",
    "sstage_partition = [3, 2, 1, 0, 3, 1, 0, 3, 3, 1, 4, 0, 2, 1, 0]\n",
    "sstage_partition  = [0, 2, 1, 0, 0, 0, 4, 1, 1, 2, 1, 0, 1, 2, 3]\n",
    "sstage_partiiton = [0, 2, 1, 0, 1, 1, 1, 0, 2, 0, 0, 2, 0, 2, 2]\n",
    "\n",
    "sstage_performance = 0.0\n",
    "sstage_clf = RandomForestClassifier(n_estimators=50)\n",
    "print(\"single stage\")\n",
    "for i in range(0,5):\n",
    "    per = MSCO.staged_classify(sstage_clf, X, y, sstage_partition, costs, train_percent=.75)\n",
    "    sstage_performance += MSCO.pm_euclidean(per)\n",
    "    print(MSCO.pm_euclidean(per))\n",
    "    print(\"iter={} performance={}\\n\".format(i,per))\n",
    "\n",
    "sstage_performance /= 5\n",
    "print(\"single stage performance: {}\".format(sstage_performance))"
   ]
  },
  {
   "cell_type": "code",
   "execution_count": null,
   "metadata": {},
   "outputs": [],
   "source": [
    "# now we use our first \"increasing cost\" heuristic\n",
    "# with a maximum possible five stages\n",
    "\n",
    "jstage_performance = 0.0\n",
    "jstage_clf = RandomForestClassifier(n_estimators=100)\n",
    "print(\"jenks stage heuristic\")\n",
    "for i in range(0,5):\n",
    "    per = MSCO.jenks_stages(jstage_clf, X, y, costs, 3,\n",
    "                 min_max_norm=True, prob_thresh=.75,\n",
    "                 train_percent=.75)\n",
    "    best =  max(per, key=lambda x: x[1])\n",
    "    jstage_performance += best[1]\n",
    "    print(\"iter={} performance={}\\n\".format(i,best))\n",
    "jstage_performance /= 5\n",
    "print(\"jenks stage performance: {}\".format(jstage_performance))"
   ]
  },
  {
   "cell_type": "code",
   "execution_count": null,
   "metadata": {},
   "outputs": [],
   "source": [
    "# use our second n-stage \"increasing cost\" heuristic\n",
    "\n",
    "nstage_performance = 0.0\n",
    "nstage_clf = RandomForestClassifier(n_estimators=100)\n",
    "print(\"n-stage stage heuristic\")\n",
    "for i in range(5):\n",
    "    per = MSCO.n_stages(nstage_clf, X, y, costs,\n",
    "                 min_max_norm=True, prob_thresh=.75,\n",
    "                 train_percent=.75)\n",
    "    nstage_performance += per\n",
    "    print(\"iter={} performance={}\\n\".format(i,per))\n",
    "nstage_performance /= 5\n",
    "print(\"n stage performance: {}\".format(nstage_performance))"
   ]
  },
  {
   "cell_type": "code",
   "execution_count": null,
   "metadata": {},
   "outputs": [],
   "source": [
    "# Use local beam search\n",
    "# We generate 50 solutions for each of the 5 generations\n",
    "\n",
    "beam_performance = 0.0\n",
    "beam_clf = RandomForestClassifier(n_estimators=100)\n",
    "beam_partition = [0, 0, 0, 0, 0, 0, 0, 0, 0, 0, 0, 0, 0, 0, 0]\n",
    "print(\"beam search\")\n",
    "MSCO.beam(beam_clf, X, y, beam_partition,\n",
    "          costs, pop_size=70, max_iter=10)"
   ]
  },
  {
   "cell_type": "code",
   "execution_count": null,
   "metadata": {
    "scrolled": false
   },
   "outputs": [],
   "source": [
    "stoch_clf = RandomForestClassifier(n_estimators=100)\n",
    "sols = []\n",
    "for j in range(5):\n",
    "    for i in range(15):\n",
    "        stoch_part = MSCO.stochastic_assn(15,3,costs,benefits)\n",
    "\n",
    "        stoch_perf = MSCO.pm_euclidean(MSCO.staged_classify(stoch_clf, X, y, stoch_part, costs))\n",
    "        sols.append([stoch_part, stoch_perf])    \n",
    "        print(\"iter={} performance={} partition={}\\n\".format(i,stoch_perf, stoch_part))\n",
    "    \n",
    "    print(max(sols, key=itemgetter(1)))\n",
    "print(max(sols, key=itemgetter(1)))"
   ]
  },
  {
   "cell_type": "code",
   "execution_count": null,
   "metadata": {},
   "outputs": [],
   "source": [
    "det_clf = RandomForestClassifier(n_estimators=100)\n",
    "MSCO.deterministic_assn(det_clf, X, y, 3, [0 for i in range(0,15)], costs,5)"
   ]
  }
 ],
 "metadata": {
  "kernelspec": {
   "display_name": "Python 3",
   "language": "python",
   "name": "python3"
  },
  "language_info": {
   "codemirror_mode": {
    "name": "ipython",
    "version": 3
   },
   "file_extension": ".py",
   "mimetype": "text/x-python",
   "name": "python",
   "nbconvert_exporter": "python",
   "pygments_lexer": "ipython3",
   "version": "3.6.9"
  }
 },
 "nbformat": 4,
 "nbformat_minor": 4
}
